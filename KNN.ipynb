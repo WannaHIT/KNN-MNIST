{
 "cells": [
  {
   "cell_type": "code",
   "execution_count": 3,
   "metadata": {},
   "outputs": [],
   "source": [
    "#########################################\n",
    "# kNN: k Nearest Neighbors\n",
    " \n",
    "# Input:      newInput: vector to compare to existing dataset (1xN)\n",
    "#             dataSet:  size m data set of known vectors (NxM)\n",
    "#             labels: \tdata set labels (1xM vector)\n",
    "#             k: \t\tnumber of neighbors to use for comparison \n",
    "            \n",
    "# Output:     the most popular class label\n",
    "#########################################\n",
    " \n",
    "from numpy import *\n",
    "import operator\n",
    " \n",
    "# create a dataset which contains 4 samples with 2 classes\n",
    "def createDataSet():\n",
    "    # create a matrix: each row as a sample\n",
    "    group = array([[1.0, 0.9], [1.0, 1.0], [0.1, 0.2], [0.0, 0.1]])\n",
    "    labels = ['A', 'A', 'B', 'B'] # four samples and two classes\n",
    "    return group, labels\n",
    " \n",
    "# classify using kNN\n",
    "def kNNClassify(newInput, dataSet, labels, k):\n",
    "    numSamples = dataSet.shape[0] # shape[0] stands for the num of row\n",
    " \n",
    "    ## step 1: calculate Euclidean distance\n",
    "    # tile(A, reps): Construct an array by repeating A reps times\n",
    "    # the following copy numSamples rows for dataSet\n",
    "    diff = tile(newInput, (numSamples, 1)) - dataSet # Subtract element-wise\n",
    "    squaredDiff = diff ** 2 # squared for the subtract\n",
    "    squaredDist = sum(squaredDiff, axis = 1) # sum is performed by row\n",
    "    distance = squaredDist ** 0.5\n",
    " \n",
    "    ## step 2: sort the distance\n",
    "    # argsort() returns the indices that would sort an array in a ascending order\n",
    "    sortedDistIndices = argsort(distance)\n",
    " \n",
    "    classCount = {} # define a dictionary (can be append element)\n",
    "    for i in range(k):\n",
    "        ## step 3: choose the min k distance\n",
    "        voteLabel = labels[sortedDistIndices[i]]\n",
    " \n",
    "        ## step 4: count the times labels occur\n",
    "        # when the key voteLabel is not in dictionary classCount, get()\n",
    "        # will return 0\n",
    "        classCount[voteLabel] = classCount.get(voteLabel, 0) + 1\n",
    " \n",
    "    ## step 5: the max voted class will return\n",
    "    maxCount = 0\n",
    "    for key, value in classCount.items():\n",
    "        if value > maxCount:\n",
    "            maxCount = value\n",
    "            maxIndex = key\n",
    " \n",
    "    return maxIndex"
   ]
  },
  {
   "cell_type": "code",
   "execution_count": 6,
   "metadata": {},
   "outputs": [
    {
     "name": "stdout",
     "output_type": "stream",
     "text": [
      "Your input is: [1.2 1.1] and classified to class:  A\n",
      "Your input is: [0.1 0.3] and classified to class:  B\n"
     ]
    }
   ],
   "source": [
    "dataSet, labels = createDataSet()\n",
    " \n",
    "testX = array([1.2, 1.1])\n",
    "k = 3\n",
    "outputLabel = kNNClassify(testX, dataSet, labels, k)\n",
    "print(\"Your input is:\", testX, \"and classified to class: \", outputLabel)\n",
    " \n",
    "testX = array([0.1, 0.3])\n",
    "outputLabel = kNNClassify(testX, dataSet, labels, k)\n",
    "print(\"Your input is:\", testX, \"and classified to class: \", outputLabel)"
   ]
  }
 ],
 "metadata": {
  "kernelspec": {
   "display_name": "Python 3",
   "language": "python",
   "name": "python3"
  },
  "language_info": {
   "codemirror_mode": {
    "name": "ipython",
    "version": 3
   },
   "file_extension": ".py",
   "mimetype": "text/x-python",
   "name": "python",
   "nbconvert_exporter": "python",
   "pygments_lexer": "ipython3",
   "version": "3.6.5"
  }
 },
 "nbformat": 4,
 "nbformat_minor": 2
}
